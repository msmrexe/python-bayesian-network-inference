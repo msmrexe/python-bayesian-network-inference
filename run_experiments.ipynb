{
 "cells": [
  {
   "cell_type": "markdown",
   "metadata": {},
   "source": [
    "# Bayesian Network: Inference and Sampling\n",
    "\n",
    "This notebook runs the scripts defined in the `scripts/` directory. Each script is a self-contained experiment that uses the `BayesianNetwork` class and sampling algorithms implemented in `src/`.\n",
    "\n",
    "Make sure you have installed the required packages:\n",
    "```bash\n",
    "pip install -r requirements.txt\n",
    "```\n",
    "\n",
    "*Note: Installing `pygraphviz` can sometimes be tricky. If it fails, the network graphs will still render using a simpler layout.*"
   ]
  },
  {
   "cell_type": "markdown",
   "metadata": {},
   "source": [
    "## 1. Exact Inference (Example Network)\n",
    "\n",
    "This script builds the 4-node example network from the original project and runs exact inference. It will save a plot of the network to `results/example_network.png`.\n",
    "\n",
    "Here, we'll test the two queries from the original notebook:\n",
    "1.  **$P(P1 | P2=1, P3=0)$** using Variable Elimination.\n",
    "2.  **$P(P1 | P2=1, P3=0)$** using Brute-Force Enumeration (to verify the VE result)."
   ]
  },
  {
   "cell_type": "code",
   "execution_count": null,
   "metadata": {},
   "outputs": [],
   "source": [
    "!python scripts/run_inference.py --query P1 --evidence \"P2:1,P3:0\" --method ve"
   ]
  },
  {
   "cell_type": "code",
   "execution_count": null,
   "metadata": {},
   "outputs": [],
   "source": [
    "!python scripts/run_inference.py --query P1 --evidence \"P2:1,P3:0\" --method enumeration"
   ]
  },
  {
   "cell_type": "markdown",
   "metadata": {},
   "source": [
    "## 2. Approximate Inference (Sampling)\n",
    "\n",
    "This script uses the same example network to test the sampling algorithms. We will estimate the same probability, **$P(P1=1 | P2=1, P3=0)$**, using all three methods to see how close they get to the exact answer (which should be $\\sim 0.516$).\n",
    "\n",
    "We use $50,000$ samples for a good estimate."
   ]
  },
  {
   "cell_type": "code",
   "execution_count": null,
   "metadata": {},
   "outputs": [],
   "source": [
    "!python scripts/run_sampling.py --query \"P1:1\" --evidence \"P2:1,P3:0\" --method rejection --samples 50000"
   ]
  },
  {
   "cell_type": "code",
   "execution_count": null,
   "metadata": {},
   "outputs": [],
   "source": [
    "!python scripts/run_sampling.py --query \"P1:1\" --evidence \"P2:1,P3:0\" --method likelihood --samples 50000"
   ]
  },
  {
   "cell_type": "code",
   "execution_count": null,
   "metadata": {},
   "outputs": [],
   "source": [
    "!python scripts/run_sampling.py --query \"P1:1\" --evidence \"P2:1,P3:0\" --method gibbs --samples 50000"
   ]
  },
  {
   "cell_type": "markdown",
   "metadata": {},
   "source": [
    "## 3. Advanced Performance Comparison\n",
    "\n",
    "This is the advanced test. This script:\n",
    "1.  Builds the 'Asia' network (a more complex, standard BN).\n",
    "2.  Calculates the *exact* ground-truth probability for **P(LungCancer=1 | Dyspnea=1, VisitToAsia=0)** using Variable Elimination.\n",
    "3.  Runs Rejection, Likelihood, and Gibbs sampling with increasing numbers of samples (from $100$ to $100,000$).\n",
    "4.  Records the probability estimate, squared error, and execution time for each run.\n",
    "5.  Saves the raw data to `results/performance_results.csv`.\n",
    "6.  Generates and saves two plots:\n",
    "    * `results/performance_error_comparison.png` (Error vs. Sample Size)\n",
    "    * `results/performance_time_comparison.png` (Time vs. Sample Size)"
   ]
  },
  {
   "cell_type": "code",
   "execution_count": null,
   "metadata": {},
   "outputs": [],
   "source": [
    "!python scripts/compare_performance.py --steps 5 --max_samples 100000"
   ]
  },
  {
   "cell_type": "markdown",
   "metadata": {},
   "source": [
    "### View Comparison Results\n",
    "\n",
    "After running the script above, you can view the generated plots here."
   ]
  },
  {
   "cell_type": "code",
   "execution_count": null,
   "metadata": {},
   "outputs": [],
   "source": [
    "from IPython.display import Image, display\n",
    "\n",
    "print(\"--- Error vs. Sample Size ---\")\n",
    "display(Image(filename='results/performance_error_comparison.png'))\n",
    "\n",
    "print(\"--- Time vs. Sample Size ---\")\n",
    "display(Image(filename='results/performance_time_comparison.png'))"
   ]
  }
 ],
 "metadata": {
  "kernelspec": {
   "display_name": "Python 3",
   "language": "python",
   "name": "python3"
  },
  "language_info": {
   "name": "python",
   "version": "3.9.12"
  }
 },
 "nbformat": 4,
 "nbformat_minor": 2
}
